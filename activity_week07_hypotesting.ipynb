{
 "cells": [
  {
   "cell_type": "code",
   "execution_count": 134,
   "id": "5f789a58",
   "metadata": {},
   "outputs": [],
   "source": [
    "import pandas as pd\n",
    "import numpy as np\n",
    "import seaborn as sns\n",
    "import statistics as st\n",
    "import scipy.stats as stats"
   ]
  },
  {
   "cell_type": "code",
   "execution_count": 135,
   "id": "824e675b",
   "metadata": {},
   "outputs": [],
   "source": [
    "data = pd.read_csv('dataset w7.csv')"
   ]
  },
  {
   "cell_type": "code",
   "execution_count": 136,
   "id": "081ce67f",
   "metadata": {},
   "outputs": [
    {
     "data": {
      "text/html": [
       "<div>\n",
       "<style scoped>\n",
       "    .dataframe tbody tr th:only-of-type {\n",
       "        vertical-align: middle;\n",
       "    }\n",
       "\n",
       "    .dataframe tbody tr th {\n",
       "        vertical-align: top;\n",
       "    }\n",
       "\n",
       "    .dataframe thead th {\n",
       "        text-align: right;\n",
       "    }\n",
       "</style>\n",
       "<table border=\"1\" class=\"dataframe\">\n",
       "  <thead>\n",
       "    <tr style=\"text-align: right;\">\n",
       "      <th></th>\n",
       "      <th>Gender</th>\n",
       "      <th>Test preparation</th>\n",
       "      <th>Total Marks</th>\n",
       "    </tr>\n",
       "  </thead>\n",
       "  <tbody>\n",
       "    <tr>\n",
       "      <th>0</th>\n",
       "      <td>male</td>\n",
       "      <td>none</td>\n",
       "      <td>14</td>\n",
       "    </tr>\n",
       "    <tr>\n",
       "      <th>1</th>\n",
       "      <td>female</td>\n",
       "      <td>none</td>\n",
       "      <td>28</td>\n",
       "    </tr>\n",
       "    <tr>\n",
       "      <th>2</th>\n",
       "      <td>female</td>\n",
       "      <td>none</td>\n",
       "      <td>18</td>\n",
       "    </tr>\n",
       "    <tr>\n",
       "      <th>3</th>\n",
       "      <td>female</td>\n",
       "      <td>none</td>\n",
       "      <td>48</td>\n",
       "    </tr>\n",
       "    <tr>\n",
       "      <th>4</th>\n",
       "      <td>female</td>\n",
       "      <td>none</td>\n",
       "      <td>21</td>\n",
       "    </tr>\n",
       "    <tr>\n",
       "      <th>5</th>\n",
       "      <td>female</td>\n",
       "      <td>completed</td>\n",
       "      <td>40</td>\n",
       "    </tr>\n",
       "    <tr>\n",
       "      <th>6</th>\n",
       "      <td>male</td>\n",
       "      <td>none</td>\n",
       "      <td>30</td>\n",
       "    </tr>\n",
       "    <tr>\n",
       "      <th>7</th>\n",
       "      <td>female</td>\n",
       "      <td>none</td>\n",
       "      <td>12</td>\n",
       "    </tr>\n",
       "    <tr>\n",
       "      <th>8</th>\n",
       "      <td>male</td>\n",
       "      <td>none</td>\n",
       "      <td>18</td>\n",
       "    </tr>\n",
       "    <tr>\n",
       "      <th>9</th>\n",
       "      <td>male</td>\n",
       "      <td>none</td>\n",
       "      <td>24</td>\n",
       "    </tr>\n",
       "    <tr>\n",
       "      <th>10</th>\n",
       "      <td>male</td>\n",
       "      <td>completed</td>\n",
       "      <td>44</td>\n",
       "    </tr>\n",
       "    <tr>\n",
       "      <th>11</th>\n",
       "      <td>male</td>\n",
       "      <td>none</td>\n",
       "      <td>23</td>\n",
       "    </tr>\n",
       "    <tr>\n",
       "      <th>12</th>\n",
       "      <td>male</td>\n",
       "      <td>completed</td>\n",
       "      <td>43</td>\n",
       "    </tr>\n",
       "    <tr>\n",
       "      <th>13</th>\n",
       "      <td>male</td>\n",
       "      <td>none</td>\n",
       "      <td>28</td>\n",
       "    </tr>\n",
       "    <tr>\n",
       "      <th>14</th>\n",
       "      <td>female</td>\n",
       "      <td>none</td>\n",
       "      <td>41</td>\n",
       "    </tr>\n",
       "  </tbody>\n",
       "</table>\n",
       "</div>"
      ],
      "text/plain": [
       "    Gender Test preparation  Total Marks\n",
       "0     male             none           14\n",
       "1   female             none           28\n",
       "2   female             none           18\n",
       "3   female             none           48\n",
       "4   female             none           21\n",
       "5   female        completed           40\n",
       "6     male             none           30\n",
       "7   female             none           12\n",
       "8     male             none           18\n",
       "9     male             none           24\n",
       "10    male        completed           44\n",
       "11    male             none           23\n",
       "12    male        completed           43\n",
       "13    male             none           28\n",
       "14  female             none           41"
      ]
     },
     "execution_count": 136,
     "metadata": {},
     "output_type": "execute_result"
    }
   ],
   "source": [
    "data.head(15)"
   ]
  },
  {
   "cell_type": "code",
   "execution_count": 137,
   "id": "dccbdf30",
   "metadata": {},
   "outputs": [
    {
     "name": "stdout",
     "output_type": "stream",
     "text": [
      "(28, 3)\n"
     ]
    }
   ],
   "source": [
    "print(data.shape)"
   ]
  },
  {
   "cell_type": "code",
   "execution_count": 138,
   "id": "787bffd0",
   "metadata": {},
   "outputs": [
    {
     "data": {
      "text/plain": [
       "Gender              0\n",
       "Test preparation    0\n",
       "Total Marks         0\n",
       "dtype: int64"
      ]
     },
     "execution_count": 138,
     "metadata": {},
     "output_type": "execute_result"
    }
   ],
   "source": [
    "data.isnull().sum()"
   ]
  },
  {
   "cell_type": "markdown",
   "id": "61245d5b",
   "metadata": {},
   "source": [
    "# 1.Descriptive Analysis of dataset"
   ]
  },
  {
   "cell_type": "code",
   "execution_count": 139,
   "id": "7a40a2bc",
   "metadata": {},
   "outputs": [
    {
     "data": {
      "text/html": [
       "<div>\n",
       "<style scoped>\n",
       "    .dataframe tbody tr th:only-of-type {\n",
       "        vertical-align: middle;\n",
       "    }\n",
       "\n",
       "    .dataframe tbody tr th {\n",
       "        vertical-align: top;\n",
       "    }\n",
       "\n",
       "    .dataframe thead th {\n",
       "        text-align: right;\n",
       "    }\n",
       "</style>\n",
       "<table border=\"1\" class=\"dataframe\">\n",
       "  <thead>\n",
       "    <tr style=\"text-align: right;\">\n",
       "      <th></th>\n",
       "      <th>Gender</th>\n",
       "      <th>Test preparation</th>\n",
       "      <th>Total Marks</th>\n",
       "    </tr>\n",
       "  </thead>\n",
       "  <tbody>\n",
       "    <tr>\n",
       "      <th>count</th>\n",
       "      <td>28</td>\n",
       "      <td>28</td>\n",
       "      <td>28.000000</td>\n",
       "    </tr>\n",
       "    <tr>\n",
       "      <th>unique</th>\n",
       "      <td>2</td>\n",
       "      <td>2</td>\n",
       "      <td>NaN</td>\n",
       "    </tr>\n",
       "    <tr>\n",
       "      <th>top</th>\n",
       "      <td>female</td>\n",
       "      <td>none</td>\n",
       "      <td>NaN</td>\n",
       "    </tr>\n",
       "    <tr>\n",
       "      <th>freq</th>\n",
       "      <td>16</td>\n",
       "      <td>21</td>\n",
       "      <td>NaN</td>\n",
       "    </tr>\n",
       "    <tr>\n",
       "      <th>mean</th>\n",
       "      <td>NaN</td>\n",
       "      <td>NaN</td>\n",
       "      <td>32.321429</td>\n",
       "    </tr>\n",
       "    <tr>\n",
       "      <th>std</th>\n",
       "      <td>NaN</td>\n",
       "      <td>NaN</td>\n",
       "      <td>12.454520</td>\n",
       "    </tr>\n",
       "    <tr>\n",
       "      <th>min</th>\n",
       "      <td>NaN</td>\n",
       "      <td>NaN</td>\n",
       "      <td>12.000000</td>\n",
       "    </tr>\n",
       "    <tr>\n",
       "      <th>25%</th>\n",
       "      <td>NaN</td>\n",
       "      <td>NaN</td>\n",
       "      <td>22.500000</td>\n",
       "    </tr>\n",
       "    <tr>\n",
       "      <th>50%</th>\n",
       "      <td>NaN</td>\n",
       "      <td>NaN</td>\n",
       "      <td>33.000000</td>\n",
       "    </tr>\n",
       "    <tr>\n",
       "      <th>75%</th>\n",
       "      <td>NaN</td>\n",
       "      <td>NaN</td>\n",
       "      <td>43.250000</td>\n",
       "    </tr>\n",
       "    <tr>\n",
       "      <th>max</th>\n",
       "      <td>NaN</td>\n",
       "      <td>NaN</td>\n",
       "      <td>50.000000</td>\n",
       "    </tr>\n",
       "  </tbody>\n",
       "</table>\n",
       "</div>"
      ],
      "text/plain": [
       "        Gender Test preparation  Total Marks\n",
       "count       28               28    28.000000\n",
       "unique       2                2          NaN\n",
       "top     female             none          NaN\n",
       "freq        16               21          NaN\n",
       "mean       NaN              NaN    32.321429\n",
       "std        NaN              NaN    12.454520\n",
       "min        NaN              NaN    12.000000\n",
       "25%        NaN              NaN    22.500000\n",
       "50%        NaN              NaN    33.000000\n",
       "75%        NaN              NaN    43.250000\n",
       "max        NaN              NaN    50.000000"
      ]
     },
     "execution_count": 139,
     "metadata": {},
     "output_type": "execute_result"
    }
   ],
   "source": [
    "data.describe(include='all')"
   ]
  },
  {
   "cell_type": "markdown",
   "id": "3a4afe30",
   "metadata": {},
   "source": [
    "# . 2. Check whether female and male students scored the same marks"
   ]
  },
  {
   "cell_type": "markdown",
   "id": "42d8e12f",
   "metadata": {},
   "source": [
    "Null hypothesis=Marks scored by male and female students are not same\n",
    "\n",
    "Alternative hyothesis=Marks scored by male and female students are same"
   ]
  },
  {
   "cell_type": "code",
   "execution_count": 140,
   "id": "a6cd76a6",
   "metadata": {},
   "outputs": [],
   "source": [
    "tstat,pval=stats.ttest_ind(data['Total Marks'][data['Gender'] == 'male'],\n",
    "                 data['Total Marks'][data['Gender'] == 'female'])"
   ]
  },
  {
   "cell_type": "code",
   "execution_count": 141,
   "id": "5595549a",
   "metadata": {},
   "outputs": [
    {
     "name": "stdout",
     "output_type": "stream",
     "text": [
      "Statistical Value = -0.694 , p_value = 0.493782\n"
     ]
    }
   ],
   "source": [
    "print('Statistical Value = %.3f , p_value = %.6f' % (tstat,pval))"
   ]
  },
  {
   "cell_type": "code",
   "execution_count": 142,
   "id": "7b04a236",
   "metadata": {},
   "outputs": [],
   "source": [
    "d_m=data.loc[data['Gender']=='male']\n",
    "d_f=data.loc[data['Gender']=='female']"
   ]
  },
  {
   "cell_type": "code",
   "execution_count": 143,
   "id": "00606a6b",
   "metadata": {},
   "outputs": [],
   "source": [
    "df= (len(d_m)-1)+(len(d_f)-1)\n"
   ]
  },
  {
   "cell_type": "code",
   "execution_count": 144,
   "id": "79b31441",
   "metadata": {},
   "outputs": [
    {
     "name": "stdout",
     "output_type": "stream",
     "text": [
      "deg_of_fr = 26\n"
     ]
    }
   ],
   "source": [
    "print('deg_of_fr = %.0f' % (df))"
   ]
  },
  {
   "cell_type": "code",
   "execution_count": 145,
   "id": "a0c2a888",
   "metadata": {},
   "outputs": [],
   "source": [
    "t_critic = stats.t.ppf(q=1-0.05/2, df=df)"
   ]
  },
  {
   "cell_type": "code",
   "execution_count": 146,
   "id": "6cfc8b77",
   "metadata": {},
   "outputs": [
    {
     "name": "stdout",
     "output_type": "stream",
     "text": [
      "t_critic= 2.055529\n"
     ]
    }
   ],
   "source": [
    "print('t_critic= %.6f' % (t_critic))"
   ]
  },
  {
   "cell_type": "code",
   "execution_count": 147,
   "id": "ac1e9623",
   "metadata": {},
   "outputs": [
    {
     "name": "stdout",
     "output_type": "stream",
     "text": [
      "Marks scored by male and female students are not same\n"
     ]
    }
   ],
   "source": [
    "if (abs(tstat)>t_critic)&(pval<0.05):\n",
    "    print('Marks scored by male and female students are same')\n",
    "else:\n",
    "    print('Marks scored by male and female students are not same')"
   ]
  },
  {
   "cell_type": "markdown",
   "id": "f5909750",
   "metadata": {},
   "source": [
    "# 3. Whether test preparation helped the student"
   ]
  },
  {
   "cell_type": "markdown",
   "id": "e3e2121c",
   "metadata": {},
   "source": [
    "Null hypothesis= Test preparation did not help the students\n",
    "\n",
    "Alternative hypothesis= Test preparation helped the students"
   ]
  },
  {
   "cell_type": "code",
   "execution_count": 148,
   "id": "1064f068",
   "metadata": {},
   "outputs": [],
   "source": [
    "d2_m=data.loc[data['Test preparation']=='completed']['Total Marks']\n",
    "d2_f=data.loc[data['Test preparation']=='none']['Total Marks']\n"
   ]
  },
  {
   "cell_type": "code",
   "execution_count": 149,
   "id": "f0460b41",
   "metadata": {},
   "outputs": [],
   "source": [
    "tstat,pval = stats.ttest_ind(d2_m,d2_f)"
   ]
  },
  {
   "cell_type": "code",
   "execution_count": 150,
   "id": "1b7ebaf9",
   "metadata": {},
   "outputs": [
    {
     "name": "stdout",
     "output_type": "stream",
     "text": [
      "Statistical Value = 3.614 , p_value = 0.001267\n"
     ]
    }
   ],
   "source": [
    "print('Statistical Value = %.3f , p_value = %.6f' % (tstat,pval))"
   ]
  },
  {
   "cell_type": "code",
   "execution_count": 151,
   "id": "fac341f7",
   "metadata": {},
   "outputs": [],
   "source": [
    "df= (len(d2_m)-1)+(len(d2_f)-1)"
   ]
  },
  {
   "cell_type": "code",
   "execution_count": 152,
   "id": "d675a06d",
   "metadata": {},
   "outputs": [
    {
     "name": "stdout",
     "output_type": "stream",
     "text": [
      "deg_of_fr = 26\n"
     ]
    }
   ],
   "source": [
    "print('deg_of_fr = %.0f' % (df))"
   ]
  },
  {
   "cell_type": "code",
   "execution_count": 153,
   "id": "7ec26b97",
   "metadata": {},
   "outputs": [],
   "source": [
    "t_critic = stats.t.ppf(q=1-0.05/2, df=df)"
   ]
  },
  {
   "cell_type": "code",
   "execution_count": 154,
   "id": "5cd39447",
   "metadata": {},
   "outputs": [
    {
     "name": "stdout",
     "output_type": "stream",
     "text": [
      "t_critic= 2.055529\n"
     ]
    }
   ],
   "source": [
    "print('t_critic= %.6f' % (t_critic))"
   ]
  },
  {
   "cell_type": "code",
   "execution_count": 155,
   "id": "96ab68bb",
   "metadata": {},
   "outputs": [
    {
     "name": "stdout",
     "output_type": "stream",
     "text": [
      "Test preparation helped the students\n"
     ]
    }
   ],
   "source": [
    "if (abs(tstat)>t_critic)&(pval<0.05):\n",
    "    print('Test preparation helped the students')\n",
    "else:\n",
    "    print('Test preparation did not help the students')"
   ]
  },
  {
   "cell_type": "code",
   "execution_count": null,
   "id": "08d30d70",
   "metadata": {},
   "outputs": [],
   "source": []
  }
 ],
 "metadata": {
  "kernelspec": {
   "display_name": "Python 3 (ipykernel)",
   "language": "python",
   "name": "python3"
  },
  "language_info": {
   "codemirror_mode": {
    "name": "ipython",
    "version": 3
   },
   "file_extension": ".py",
   "mimetype": "text/x-python",
   "name": "python",
   "nbconvert_exporter": "python",
   "pygments_lexer": "ipython3",
   "version": "3.9.7"
  }
 },
 "nbformat": 4,
 "nbformat_minor": 5
}
